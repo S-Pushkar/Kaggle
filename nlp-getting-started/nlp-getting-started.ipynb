{
 "cells": [
  {
   "cell_type": "code",
   "metadata": {
    "ExecuteTime": {
     "end_time": "2024-11-14T10:24:54.014638Z",
     "start_time": "2024-11-14T10:24:54.008637Z"
    }
   },
   "source": [
    "import pandas as pd\n",
    "import numpy as np"
   ],
   "outputs": [],
   "execution_count": 69
  },
  {
   "cell_type": "code",
   "metadata": {
    "ExecuteTime": {
     "end_time": "2024-11-14T10:24:54.062154Z",
     "start_time": "2024-11-14T10:24:54.035153Z"
    }
   },
   "source": [
    "df = pd.read_csv('train.csv')\n",
    "df.head()"
   ],
   "outputs": [
    {
     "data": {
      "text/plain": [
       "   id keyword location                                               text  \\\n",
       "0   1     NaN      NaN  Our Deeds are the Reason of this #earthquake M...   \n",
       "1   4     NaN      NaN             Forest fire near La Ronge Sask. Canada   \n",
       "2   5     NaN      NaN  All residents asked to 'shelter in place' are ...   \n",
       "3   6     NaN      NaN  13,000 people receive #wildfires evacuation or...   \n",
       "4   7     NaN      NaN  Just got sent this photo from Ruby #Alaska as ...   \n",
       "\n",
       "   target  \n",
       "0       1  \n",
       "1       1  \n",
       "2       1  \n",
       "3       1  \n",
       "4       1  "
      ],
      "text/html": [
       "<div>\n",
       "<style scoped>\n",
       "    .dataframe tbody tr th:only-of-type {\n",
       "        vertical-align: middle;\n",
       "    }\n",
       "\n",
       "    .dataframe tbody tr th {\n",
       "        vertical-align: top;\n",
       "    }\n",
       "\n",
       "    .dataframe thead th {\n",
       "        text-align: right;\n",
       "    }\n",
       "</style>\n",
       "<table border=\"1\" class=\"dataframe\">\n",
       "  <thead>\n",
       "    <tr style=\"text-align: right;\">\n",
       "      <th></th>\n",
       "      <th>id</th>\n",
       "      <th>keyword</th>\n",
       "      <th>location</th>\n",
       "      <th>text</th>\n",
       "      <th>target</th>\n",
       "    </tr>\n",
       "  </thead>\n",
       "  <tbody>\n",
       "    <tr>\n",
       "      <th>0</th>\n",
       "      <td>1</td>\n",
       "      <td>NaN</td>\n",
       "      <td>NaN</td>\n",
       "      <td>Our Deeds are the Reason of this #earthquake M...</td>\n",
       "      <td>1</td>\n",
       "    </tr>\n",
       "    <tr>\n",
       "      <th>1</th>\n",
       "      <td>4</td>\n",
       "      <td>NaN</td>\n",
       "      <td>NaN</td>\n",
       "      <td>Forest fire near La Ronge Sask. Canada</td>\n",
       "      <td>1</td>\n",
       "    </tr>\n",
       "    <tr>\n",
       "      <th>2</th>\n",
       "      <td>5</td>\n",
       "      <td>NaN</td>\n",
       "      <td>NaN</td>\n",
       "      <td>All residents asked to 'shelter in place' are ...</td>\n",
       "      <td>1</td>\n",
       "    </tr>\n",
       "    <tr>\n",
       "      <th>3</th>\n",
       "      <td>6</td>\n",
       "      <td>NaN</td>\n",
       "      <td>NaN</td>\n",
       "      <td>13,000 people receive #wildfires evacuation or...</td>\n",
       "      <td>1</td>\n",
       "    </tr>\n",
       "    <tr>\n",
       "      <th>4</th>\n",
       "      <td>7</td>\n",
       "      <td>NaN</td>\n",
       "      <td>NaN</td>\n",
       "      <td>Just got sent this photo from Ruby #Alaska as ...</td>\n",
       "      <td>1</td>\n",
       "    </tr>\n",
       "  </tbody>\n",
       "</table>\n",
       "</div>"
      ]
     },
     "execution_count": 70,
     "metadata": {},
     "output_type": "execute_result"
    }
   ],
   "execution_count": 70
  },
  {
   "cell_type": "code",
   "metadata": {
    "ExecuteTime": {
     "end_time": "2024-11-14T10:24:54.156215Z",
     "start_time": "2024-11-14T10:24:54.143215Z"
    }
   },
   "source": [
    "df.isna().sum()"
   ],
   "outputs": [
    {
     "data": {
      "text/plain": [
       "id             0\n",
       "keyword       61\n",
       "location    2533\n",
       "text           0\n",
       "target         0\n",
       "dtype: int64"
      ]
     },
     "execution_count": 71,
     "metadata": {},
     "output_type": "execute_result"
    }
   ],
   "execution_count": 71
  },
  {
   "cell_type": "code",
   "metadata": {
    "ExecuteTime": {
     "end_time": "2024-11-14T10:24:54.235263Z",
     "start_time": "2024-11-14T10:24:54.220216Z"
    }
   },
   "source": [
    "df['keyword'] = df['keyword'].fillna(df['keyword'].mode()[0])\n",
    "df['location'] = df['location'].fillna(df['location'].mode()[0])\n",
    "df.drop('id', axis=1, inplace=True)\n",
    "df.isna().sum()"
   ],
   "outputs": [
    {
     "data": {
      "text/plain": [
       "keyword     0\n",
       "location    0\n",
       "text        0\n",
       "target      0\n",
       "dtype: int64"
      ]
     },
     "execution_count": 72,
     "metadata": {},
     "output_type": "execute_result"
    }
   ],
   "execution_count": 72
  },
  {
   "cell_type": "code",
   "metadata": {
    "ExecuteTime": {
     "end_time": "2024-11-14T10:24:54.376821Z",
     "start_time": "2024-11-14T10:24:54.361823Z"
    }
   },
   "source": [
    "df.drop('location', axis=1, inplace=True)\n",
    "df.drop('keyword', axis=1, inplace=True)"
   ],
   "outputs": [],
   "execution_count": 73
  },
  {
   "cell_type": "code",
   "metadata": {
    "ExecuteTime": {
     "end_time": "2024-11-14T10:25:00.533420Z",
     "start_time": "2024-11-14T10:24:54.472394Z"
    }
   },
   "source": [
    "from sentence_transformers import SentenceTransformer\n",
    "import torch\n",
    "\n",
    "device = \"cuda\" if torch.cuda.is_available() else \"cpu\"\n",
    "print(f\"Using device: {device}\")\n",
    "\n",
    "transformer = SentenceTransformer(\"all-MiniLM-L6-v2\", device=device)\n",
    "\n",
    "embeddings = transformer.encode(df['text'], device=device)\n",
    "\n",
    "df['embeddings'] = [embedding for embedding in embeddings]\n",
    "\n",
    "df.drop('text', axis=1, inplace=True)"
   ],
   "outputs": [
    {
     "name": "stdout",
     "output_type": "stream",
     "text": [
      "Using device: cuda\n"
     ]
    }
   ],
   "execution_count": 74
  },
  {
   "cell_type": "code",
   "metadata": {
    "ExecuteTime": {
     "end_time": "2024-11-14T10:25:00.612787Z",
     "start_time": "2024-11-14T10:25:00.597798Z"
    }
   },
   "source": "df.head()",
   "outputs": [
    {
     "data": {
      "text/plain": [
       "   target                                         embeddings\n",
       "0       1  [-0.014600068, 0.046868287, 0.11572448, 0.0185...\n",
       "1       1  [0.040229227, 0.03801415, -0.0064313635, 0.024...\n",
       "2       1  [0.1313757, 0.012401276, 0.06718614, 0.0854625...\n",
       "3       1  [0.094014056, -0.0375565, 0.029119445, 0.02958...\n",
       "4       1  [-0.04094861, 0.08828365, 0.07735549, 0.086615..."
      ],
      "text/html": [
       "<div>\n",
       "<style scoped>\n",
       "    .dataframe tbody tr th:only-of-type {\n",
       "        vertical-align: middle;\n",
       "    }\n",
       "\n",
       "    .dataframe tbody tr th {\n",
       "        vertical-align: top;\n",
       "    }\n",
       "\n",
       "    .dataframe thead th {\n",
       "        text-align: right;\n",
       "    }\n",
       "</style>\n",
       "<table border=\"1\" class=\"dataframe\">\n",
       "  <thead>\n",
       "    <tr style=\"text-align: right;\">\n",
       "      <th></th>\n",
       "      <th>target</th>\n",
       "      <th>embeddings</th>\n",
       "    </tr>\n",
       "  </thead>\n",
       "  <tbody>\n",
       "    <tr>\n",
       "      <th>0</th>\n",
       "      <td>1</td>\n",
       "      <td>[-0.014600068, 0.046868287, 0.11572448, 0.0185...</td>\n",
       "    </tr>\n",
       "    <tr>\n",
       "      <th>1</th>\n",
       "      <td>1</td>\n",
       "      <td>[0.040229227, 0.03801415, -0.0064313635, 0.024...</td>\n",
       "    </tr>\n",
       "    <tr>\n",
       "      <th>2</th>\n",
       "      <td>1</td>\n",
       "      <td>[0.1313757, 0.012401276, 0.06718614, 0.0854625...</td>\n",
       "    </tr>\n",
       "    <tr>\n",
       "      <th>3</th>\n",
       "      <td>1</td>\n",
       "      <td>[0.094014056, -0.0375565, 0.029119445, 0.02958...</td>\n",
       "    </tr>\n",
       "    <tr>\n",
       "      <th>4</th>\n",
       "      <td>1</td>\n",
       "      <td>[-0.04094861, 0.08828365, 0.07735549, 0.086615...</td>\n",
       "    </tr>\n",
       "  </tbody>\n",
       "</table>\n",
       "</div>"
      ]
     },
     "execution_count": 75,
     "metadata": {},
     "output_type": "execute_result"
    }
   ],
   "execution_count": 75
  },
  {
   "cell_type": "code",
   "metadata": {
    "ExecuteTime": {
     "end_time": "2024-11-14T10:26:59.833128Z",
     "start_time": "2024-11-14T10:26:59.514300Z"
    }
   },
   "source": [
    "import torch\n",
    "import torch.nn as nn\n",
    "import torch.optim as optim\n",
    "from sklearn.model_selection import train_test_split\n",
    "\n",
    "# Convert embeddings to PyTorch tensors and move to GPU\n",
    "X = torch.tensor(embeddings, dtype=torch.float32).to(device)\n",
    "y = torch.tensor(df['target'].values, dtype=torch.long).to(device)\n",
    "\n",
    "# Split the dataset\n",
    "X_train, X_test, y_train, y_test = train_test_split(X, y, test_size=0.2, random_state=42)\n",
    "\n",
    "class FCNN(nn.Module):\n",
    "    def __init__(self, input_dim, hidden_dim1, hidden_dim2, output_dim):\n",
    "        super(FCNN, self).__init__()\n",
    "        self.fc1 = nn.Linear(input_dim, hidden_dim1)\n",
    "        self.fc2 = nn.Linear(hidden_dim1, hidden_dim2)\n",
    "        self.fc3 = nn.Linear(hidden_dim2, output_dim)\n",
    "\n",
    "    def forward(self, x):\n",
    "        x = torch.tanh_(self.fc1(x))\n",
    "        x = torch.tanh_(self.fc2(x))\n",
    "        x = self.fc3(x)\n",
    "        return x\n",
    "\n",
    "model = FCNN(embeddings.shape[1], 128, 64, 2).to(device)\n",
    "criterion = nn.CrossEntropyLoss()\n",
    "optimizer = optim.Adam(model.parameters(), lr=0.001)\n",
    "\n",
    "# Training and evaluation code can be similar to the BiLSTM example.\n",
    "num_epochs = 20\n",
    "\n",
    "for epoch in range(num_epochs):\n",
    "    optimizer.zero_grad()\n",
    "    outputs = model(X_train)\n",
    "    loss = criterion(outputs, y_train)\n",
    "    loss.backward()\n",
    "    optimizer.step()\n",
    "    print(f\"Epoch {epoch + 1}/{num_epochs}, Loss: {loss.item()}\")\n",
    "\n",
    "# Evaluation\n",
    "model.eval()\n",
    "with torch.no_grad():\n",
    "    test_output = model(X_test)\n",
    "    _, predicted = torch.max(test_output, 1)\n",
    "    accuracy = (predicted == y_test).float().mean()\n",
    "    print(f\"Test Accuracy: {accuracy.item() * 100:.2f}%\")"
   ],
   "outputs": [
    {
     "name": "stdout",
     "output_type": "stream",
     "text": [
      "Epoch 1/20, Loss: 0.6975936889648438\n",
      "Epoch 2/20, Loss: 0.6909628510475159\n",
      "Epoch 3/20, Loss: 0.6846793293952942\n",
      "Epoch 4/20, Loss: 0.6784937977790833\n",
      "Epoch 5/20, Loss: 0.6721362471580505\n",
      "Epoch 6/20, Loss: 0.6653664708137512\n",
      "Epoch 7/20, Loss: 0.6580127477645874\n",
      "Epoch 8/20, Loss: 0.6499589681625366\n",
      "Epoch 9/20, Loss: 0.6411325931549072\n",
      "Epoch 10/20, Loss: 0.6314940452575684\n",
      "Epoch 11/20, Loss: 0.6210269331932068\n",
      "Epoch 12/20, Loss: 0.6097334623336792\n",
      "Epoch 13/20, Loss: 0.5976397395133972\n",
      "Epoch 14/20, Loss: 0.5848064422607422\n",
      "Epoch 15/20, Loss: 0.5713421106338501\n",
      "Epoch 16/20, Loss: 0.557418704032898\n",
      "Epoch 17/20, Loss: 0.5432823896408081\n",
      "Epoch 18/20, Loss: 0.5292520523071289\n",
      "Epoch 19/20, Loss: 0.5156936049461365\n",
      "Epoch 20/20, Loss: 0.5029703974723816\n",
      "Test Accuracy: 79.32%\n"
     ]
    }
   ],
   "execution_count": 77
  },
  {
   "cell_type": "code",
   "metadata": {
    "ExecuteTime": {
     "end_time": "2024-11-14T10:27:04.094938Z",
     "start_time": "2024-11-14T10:27:04.087933Z"
    }
   },
   "source": [
    "# Print the f1 score\n",
    "from sklearn.metrics import f1_score\n",
    "\n",
    "y_pred = predicted.cpu().numpy()\n",
    "y_test = y_test_tensor.cpu().numpy()\n",
    "\n",
    "print(f1_score(y_test, y_pred))"
   ],
   "outputs": [
    {
     "name": "stdout",
     "output_type": "stream",
     "text": [
      "0.756003098373354\n"
     ]
    }
   ],
   "execution_count": 78
  },
  {
   "cell_type": "code",
   "metadata": {
    "ExecuteTime": {
     "end_time": "2024-11-14T10:27:05.795942Z",
     "start_time": "2024-11-14T10:27:05.781926Z"
    }
   },
   "source": "print(f1_score(y_test, y_pred))",
   "outputs": [
    {
     "name": "stdout",
     "output_type": "stream",
     "text": [
      "0.756003098373354\n"
     ]
    }
   ],
   "execution_count": 79
  },
  {
   "metadata": {
    "ExecuteTime": {
     "end_time": "2024-11-14T10:27:08.727912Z",
     "start_time": "2024-11-14T10:27:07.056352Z"
    }
   },
   "cell_type": "code",
   "source": [
    "test_df = pd.read_csv('test.csv')\n",
    "\n",
    "test_df.drop('location', axis=1, inplace=True)\n",
    "test_df.drop('keyword', axis=1, inplace=True)\n",
    "\n",
    "embeddings = transformer.encode(test_df['text'])\n",
    "\n",
    "test_df['embeddings'] = [embedding for embedding in embeddings]\n",
    "\n",
    "test_df.drop('text', axis=1, inplace=True)\n",
    "\n",
    "# Convert embeddings to array without reshaping to 3D\n",
    "X_test = np.array(test_df['embeddings'].tolist())\n",
    "\n",
    "# Set the model to evaluation mode\n",
    "model.eval()\n",
    "with torch.no_grad():\n",
    "    # Pass X_test as a 2D tensor directly\n",
    "    test_output = model(torch.tensor(X_test, dtype=torch.float32).to(device))\n",
    "    _, predicted = torch.max(test_output, 1)\n",
    "\n",
    "y_pred = predicted.cpu().numpy()\n",
    "\n",
    "# Save predictions\n",
    "test_df['target'] = y_pred\n",
    "test_df.drop('embeddings', axis=1, inplace=True)\n",
    "test_df.to_csv('submission.csv', index=False)"
   ],
   "outputs": [],
   "execution_count": 80
  },
  {
   "metadata": {
    "ExecuteTime": {
     "end_time": "2024-11-14T10:25:00.759253900Z",
     "start_time": "2024-11-14T10:24:10.423605Z"
    }
   },
   "cell_type": "code",
   "source": "",
   "outputs": [],
   "execution_count": null
  }
 ],
 "metadata": {
  "kernelspec": {
   "display_name": "venv",
   "language": "python",
   "name": "python3"
  },
  "language_info": {
   "codemirror_mode": {
    "name": "ipython",
    "version": 3
   },
   "file_extension": ".py",
   "mimetype": "text/x-python",
   "name": "python",
   "nbconvert_exporter": "python",
   "pygments_lexer": "ipython3",
   "version": "3.10.0"
  }
 },
 "nbformat": 4,
 "nbformat_minor": 2
}
